{
  "nbformat": 4,
  "nbformat_minor": 0,
  "metadata": {
    "colab": {
      "provenance": [],
      "authorship_tag": "ABX9TyMH5ax6XOhP2HGMjhM8G5IY",
      "include_colab_link": true
    },
    "kernelspec": {
      "name": "python3",
      "display_name": "Python 3"
    },
    "language_info": {
      "name": "python"
    }
  },
  "cells": [
    {
      "cell_type": "markdown",
      "metadata": {
        "id": "view-in-github",
        "colab_type": "text"
      },
      "source": [
        "<a href=\"https://colab.research.google.com/github/Anag0es/chatbot_langchain/blob/main/chatbot_langchain.ipynb\" target=\"_parent\"><img src=\"https://colab.research.google.com/assets/colab-badge.svg\" alt=\"Open In Colab\"/></a>"
      ]
    },
    {
      "cell_type": "markdown",
      "source": [
        "# Chatbot com Langchain usando Panel e OpenAI\n",
        "\n",
        "# ============================================\n",
        "\n"
      ],
      "metadata": {
        "id": "5Ou445Yg4n1A"
      }
    },
    {
      "cell_type": "markdown",
      "source": [
        "**Objetivo**: Neste notebook, construiremos um chatbot interativo utilizando as bibliotecas `Langchain` e `Panel`, integrando com a API da OpenAI.\n",
        "\n",
        "A ideia é entender como criar um fluxo de conversa usando memória e modelos de linguagem, além de exibir a interface gráfica com `Panel`."
      ],
      "metadata": {
        "id": "I1yZ5z2t4weB"
      }
    },
    {
      "cell_type": "markdown",
      "source": [
        "## Instalação das dependências"
      ],
      "metadata": {
        "id": "mg-_2NMt42Rq"
      }
    },
    {
      "cell_type": "code",
      "source": [
        "!pip install -U langchain-community\n",
        "!pip install openai\n",
        "!pip install jupyter_bokeh"
      ],
      "metadata": {
        "id": "vla6e25G46GN"
      },
      "execution_count": null,
      "outputs": []
    },
    {
      "cell_type": "markdown",
      "source": [
        "## Importação da biblioteca"
      ],
      "metadata": {
        "id": "tpxRNWro48kh"
      }
    },
    {
      "cell_type": "code",
      "execution_count": null,
      "metadata": {
        "id": "8FWOaoAF34AC"
      },
      "outputs": [],
      "source": [
        "from langchain.memory import ConversationBufferMemory\n",
        "from langchain.chat_models import ChatOpenAI\n",
        "from langchain.chains import ConversationChain\n",
        "\n",
        "import panel as pn\n",
        "import os\n"
      ]
    },
    {
      "cell_type": "markdown",
      "source": [
        "## Configurando a API da OpenAI e dashboard"
      ],
      "metadata": {
        "id": "F_i2bXZG5ARG"
      }
    },
    {
      "cell_type": "code",
      "source": [
        "llm = ChatOpenAI()\n",
        "memory = ConversationBufferMemory()\n",
        "os.environ[\"OPENAI_API_KEY\"] = \"sua_chave_api_aqui\"\n",
        "pn.extension()"
      ],
      "metadata": {
        "id": "yeQdiWTx4F-i"
      },
      "execution_count": null,
      "outputs": []
    },
    {
      "cell_type": "markdown",
      "source": [
        "## Criando cadeia de conversação\n",
        "\n",
        "A `ConversationChain` é onde conectamos o modelo de linguagem e a memória."
      ],
      "metadata": {
        "id": "K8Bs1YBC5TG-"
      }
    },
    {
      "cell_type": "code",
      "source": [
        "conversation = ConversationChain(\n",
        "llm=llm,\n",
        "memory=memory\n",
        ")"
      ],
      "metadata": {
        "id": "hxtAfegi4Ifa"
      },
      "execution_count": null,
      "outputs": []
    },
    {
      "cell_type": "markdown",
      "source": [],
      "metadata": {
        "id": "w_ggAyJe7lkQ"
      }
    },
    {
      "cell_type": "markdown",
      "source": [
        "## Configurando os Elementos da Interface"
      ],
      "metadata": {
        "id": "0z_hWxHi5gXy"
      }
    },
    {
      "cell_type": "code",
      "source": [
        "# configurando o spinner para usuário aguardar resposta\n",
        "loading_spinner = pn.indicators.LoadingSpinner(width=25, height=25, value=False)\n",
        "loading_spinner.visible = False"
      ],
      "metadata": {
        "id": "eMr9GWVa6Ua7"
      },
      "execution_count": null,
      "outputs": []
    },
    {
      "cell_type": "markdown",
      "source": [
        "### Definindo a Classe Chatbot\n",
        "\n",
        "Agora, criamos uma classe `Chatbot` para encapsular a lógica de resposta e exibição do histórico de mensagens."
      ],
      "metadata": {
        "id": "qVSEwS5h5bkD"
      }
    },
    {
      "cell_type": "code",
      "source": [
        "class Chatbot:\n",
        "def __init__(self):\n",
        "self.conversation = conversation\n",
        "self.history = []\n",
        "\n",
        "def respond(self, message):\n",
        "  if not message:\n",
        "    return \"\"\n",
        "\n",
        "  loading_spinner.visible = True\n",
        "  loading_spinner.value = True\n",
        "  response = self.conversation.run(message)\n",
        "  self.history.append((\"Usuário\", message))\n",
        "  self.history.append((\"Bot\", response))\n",
        "  return self.display_chat()\n",
        "\n",
        "def display_chat(self):\n",
        "  chat_display = \"\"\n",
        "  for speaker, msg in self.history:\n",
        "    chat_display += f\"**{speaker}:** {msg}\\n\\n\"\n",
        "  return chat_display"
      ],
      "metadata": {
        "id": "PQNcwxL54KMw"
      },
      "execution_count": null,
      "outputs": []
    },
    {
      "cell_type": "code",
      "source": [
        "chatbot = Chatbot()"
      ],
      "metadata": {
        "id": "9xohvuhL7yc5"
      },
      "execution_count": null,
      "outputs": []
    },
    {
      "cell_type": "code",
      "source": [
        "# Usamos widgets do Panel para criar os componentes de entrada e saída do chatbot.\n",
        "\n",
        "input_box = pn.widgets.TextInput(placeholder=\"Digite sua mensagem aqui...\")\n",
        "send_button = pn.widgets.Button(name=\"Enviar\", button_type=\"primary\")\n",
        "output = pn.pane.Markdown(\"\")"
      ],
      "metadata": {
        "id": "UiL0ddGg4NHq"
      },
      "execution_count": null,
      "outputs": []
    },
    {
      "cell_type": "code",
      "source": [
        "# Organizamos a interface como um dashboard vertical com título, saída e elementos de entrada.\n",
        "\n",
        "dashboard = pn.Column(\n",
        "pn.pane.Markdown(\"# Chatbot com Langchain\"),\n",
        "output,\n",
        "pn.Row(input_box, send_button)\n",
        ")"
      ],
      "metadata": {
        "id": "qtJC9kBn4RO6"
      },
      "execution_count": null,
      "outputs": []
    },
    {
      "cell_type": "markdown",
      "source": [
        "## Definindo o Comportamento do Botão"
      ],
      "metadata": {
        "id": "bQsM2mYh5n3T"
      }
    },
    {
      "cell_type": "code",
      "source": [
        "# A função `send_message` é chamada quando o botão \"Enviar\" é clicado. Ela processa a entrada do usuário e exibe a resposta.\n",
        "\n",
        "def send_message(event):\n",
        "if input_box.value:\n",
        "response = chatbot.respond(input_box.value)\n",
        "output.object = response\n",
        "input_box.value = \"\"\n",
        "\n",
        "send_button.on_click(send_message)"
      ],
      "metadata": {
        "id": "CWk0WJrr4S3i"
      },
      "execution_count": null,
      "outputs": []
    },
    {
      "cell_type": "code",
      "source": [
        "# Finalmente, criamos uma instância do chatbot e tornamos o dashboard visível.\n",
        "\n",
        "dashboard.servable()\n"
      ],
      "metadata": {
        "id": "IwbayJOb4T9Z"
      },
      "execution_count": null,
      "outputs": []
    }
  ]
}